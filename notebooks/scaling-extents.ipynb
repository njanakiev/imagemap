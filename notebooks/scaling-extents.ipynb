{
 "cells": [
  {
   "cell_type": "markdown",
   "metadata": {},
   "source": [
    "# Scaling Extents"
   ]
  },
  {
   "cell_type": "code",
   "execution_count": 1,
   "metadata": {},
   "outputs": [],
   "source": [
    "%matplotlib inline\n",
    "%load_ext autoreload\n",
    "%autoreload 2"
   ]
  },
  {
   "cell_type": "code",
   "execution_count": 2,
   "metadata": {},
   "outputs": [],
   "source": [
    "import numpy as np\n",
    "import pandas as pd\n",
    "import matplotlib.pyplot as plt"
   ]
  },
  {
   "cell_type": "code",
   "execution_count": 3,
   "metadata": {},
   "outputs": [],
   "source": [
    "def plot_extent(extent, ax=None, **kwargs):\n",
    "    min_x, min_y, max_x, max_y = extent\n",
    "    x = [min_x, min_x, max_x, max_x, min_x]\n",
    "    y = [min_y, max_y, max_y, min_y, min_y]\n",
    "    \n",
    "    if ax is None:\n",
    "        plt.plot(x, y, **kwargs)\n",
    "    else:\n",
    "        ax.plot(x, y, **kwargs)"
   ]
  },
  {
   "cell_type": "code",
   "execution_count": 4,
   "metadata": {},
   "outputs": [],
   "source": [
    "def scale_extent(extent, w, h, boundary_type='outer'):\n",
    "    x0, y0, x1, y1 = extent\n",
    "    W, H = (x1 - x0), (y1 - y0)\n",
    "    \n",
    "    if ((W / H) < (w / h) and boundary_type == 'inner') or \\\n",
    "       ((W / H) > (w / h) and boundary_type == 'outer'):\n",
    "        cy = (y0 + y1) * 0.5\n",
    "        factor = 0.5 * ((W * h) / w)\n",
    "        return [x0, cy - factor, x1, cy + factor]\n",
    "    else:\n",
    "        cx = (x0 + x1) * 0.5\n",
    "        factor = 0.5 * ((H * w) / h)\n",
    "        return [cx - factor, y0, cx + factor, y1]"
   ]
  },
  {
   "cell_type": "code",
   "execution_count": 5,
   "metadata": {},
   "outputs": [
    {
     "data": {
      "image/png": "[encoded data removed]",
      "text/plain": [
       "<Figure size 432x288 with 1 Axes>"
      ]
     },
     "metadata": {
      "needs_background": "light"
     },
     "output_type": "display_data"
    }
   ],
   "source": [
    "EXTENT = [9.5307, 46.3723, 17.1608, 49.0205]  # Austria\n",
    "#EXTENT = [5.87, 47.27,15.04,55.1]  # Germany\n",
    "width, height = 1280, 1280\n",
    "\n",
    "plot_extent(EXTENT, label='original')\n",
    "plot_extent(scale_extent(EXTENT, width, height, 'inner'), label='inner')\n",
    "plot_extent(scale_extent(EXTENT, width, height, 'outer'), label='outer')\n",
    "plt.legend()\n",
    "plt.axis(\"equal\");"
   ]
  },
  {
   "cell_type": "code",
   "execution_count": 6,
   "metadata": {},
   "outputs": [],
   "source": [
    "def relative_extent(src_extent, dst_extent, size):\n",
    "    w, h = size\n",
    "    xa0, ya0, xa1, ya1 = src_extent\n",
    "    xb0, yb0, xb1, yb1 = dst_extent\n",
    "    dpx = (xa1 - xa0) / w\n",
    "    dpy = (ya1 - ya0) / h\n",
    "    \n",
    "    #rel_extent = [\n",
    "    #    int((xb0 - xa0) / dpx),\n",
    "    #    int((yb1 - ya0) / dpy),\n",
    "    #    int((xb1 - xa0) / dpx),\n",
    "    #    int((yb0 - ya0) / dpy)\n",
    "    #]\n",
    "    \n",
    "    rel_extent = [\n",
    "        int((xb0 - xa0) / dpx),\n",
    "        int((yb0 - ya0) / dpy),\n",
    "        int((xb1 - xa0) / dpx),\n",
    "        int((yb1 - ya0) / dpy)\n",
    "    ]\n",
    "    \n",
    "    rel_size = (\n",
    "        rel_extent[2] - rel_extent[0],\n",
    "        rel_extent[1] - rel_extent[3]\n",
    "    )\n",
    "    return rel_extent, rel_size"
   ]
  },
  {
   "cell_type": "code",
   "execution_count": 7,
   "metadata": {},
   "outputs": [
    {
     "data": {
      "text/plain": [
       "([541, 287, 1581, 1274], (1040, -987))"
      ]
     },
     "execution_count": 7,
     "metadata": {},
     "output_type": "execute_result"
    }
   ],
   "source": [
    "outer_extent = [1064207.6528142476, 5829126.7295514755, 1904181.734118652, 6301612.150285203]\n",
    "custom_extent = [1419323.507614238, 6017483.680748347, 2101711.986177005, 6665635.539174074]\n",
    "size = (1280, 720)\n",
    "\n",
    "rel_extent, rel_size = relative_extent(outer_extent, custom_extent, size)\n",
    "rel_extent, rel_size"
   ]
  },
  {
   "cell_type": "code",
   "execution_count": 8,
   "metadata": {},
   "outputs": [
    {
     "data": {
      "image/png": "[encoded data removed]",
      "text/plain": [
       "<Figure size 864x432 with 2 Axes>"
      ]
     },
     "metadata": {
      "needs_background": "light"
     },
     "output_type": "display_data"
    }
   ],
   "source": [
    "fig, (ax1, ax2) = plt.subplots(ncols=2, figsize=(12, 6))\n",
    "\n",
    "plot_extent(outer_extent, ax=ax1, label='original')\n",
    "plot_extent(custom_extent, ax=ax1, label='custom')\n",
    "\n",
    "plot_extent([0, 0, size[0], size[1]], ax=ax2, label='original')\n",
    "plot_extent(rel_extent, ax=ax2, label='custom')\n",
    "\n",
    "ax1.legend()\n",
    "ax1.axis(\"equal\")\n",
    "ax2.legend()\n",
    "ax2.axis(\"equal\");"
   ]
  },
  {
   "cell_type": "code",
   "execution_count": 9,
   "metadata": {},
   "outputs": [
    {
     "data": {
      "text/plain": [
       "([34508, 42300, 35881, 43073], (1373, -773))"
      ]
     },
     "execution_count": 9,
     "metadata": {},
     "output_type": "execute_result"
    }
   ],
   "source": [
    "FULL_EXTENT = [\n",
    "    -20037508.342789244, -20037508.342789244, \n",
    "     20037508.342789244,  20037508.342789244\n",
    "]\n",
    "\n",
    "EXTENT = [\n",
    "    1064207.6528142476, 5829126.7295514755, \n",
    "    1904181.734118652, 6301612.150285203\n",
    "]\n",
    "\n",
    "size = (256*2**8, 256*2**8)\n",
    "\n",
    "rel_extent, rel_size = relative_extent(FULL_EXTENT, EXTENT, size)\n",
    "rel_extent, rel_size"
   ]
  },
  {
   "cell_type": "code",
   "execution_count": 10,
   "metadata": {},
   "outputs": [
    {
     "data": {
      "image/png": "[encoded data removed]",
      "text/plain": [
       "<Figure size 864x432 with 2 Axes>"
      ]
     },
     "metadata": {
      "needs_background": "light"
     },
     "output_type": "display_data"
    }
   ],
   "source": [
    "fig, (ax1, ax2) = plt.subplots(ncols=2, figsize=(12, 6))\n",
    "\n",
    "plot_extent(FULL_EXTENT, ax=ax1, label='original')\n",
    "plot_extent(EXTENT, ax=ax1, label='custom')\n",
    "\n",
    "plot_extent([0, 0, size[0], size[1]], ax=ax2, label='original')\n",
    "plot_extent(rel_extent, ax=ax2, label='custom')\n",
    "\n",
    "ax1.legend()\n",
    "ax1.axis(\"equal\")\n",
    "ax2.legend()\n",
    "ax2.axis(\"equal\");"
   ]
  },
  {
   "cell_type": "markdown",
   "metadata": {},
   "source": [
    "# Mercantile Bounds"
   ]
  },
  {
   "cell_type": "code",
   "execution_count": 11,
   "metadata": {},
   "outputs": [],
   "source": [
    "import mercantile"
   ]
  },
  {
   "cell_type": "code",
   "execution_count": 12,
   "metadata": {},
   "outputs": [
    {
     "data": {
      "text/plain": [
       "[-20037508.342789244,\n",
       " -20037508.342789244,\n",
       " 20037508.342789244,\n",
       " 20037508.342789244]"
      ]
     },
     "execution_count": 12,
     "metadata": {},
     "output_type": "execute_result"
    }
   ],
   "source": [
    "FULL_EXTENT = list(mercantile.xy_bounds(\n",
    "     mercantile.Tile(0, 0, 0)))\n",
    "FULL_EXTENT"
   ]
  },
  {
   "cell_type": "code",
   "execution_count": 13,
   "metadata": {},
   "outputs": [
    {
     "data": {
      "text/plain": [
       "array([-180.        ,  -85.05112878,  180.        ,   85.05112878])"
      ]
     },
     "execution_count": 13,
     "metadata": {},
     "output_type": "execute_result"
    }
   ],
   "source": [
    "np.concatenate([\n",
    "    mercantile.lnglat(FULL_EXTENT[0], FULL_EXTENT[1]),\n",
    "    mercantile.lnglat(FULL_EXTENT[2], FULL_EXTENT[3])\n",
    "])"
   ]
  },
  {
   "cell_type": "code",
   "execution_count": 14,
   "metadata": {},
   "outputs": [
    {
     "data": {
      "image/png": "[encoded data removed]",
      "text/plain": [
       "<Figure size 864x432 with 1 Axes>"
      ]
     },
     "metadata": {
      "needs_background": "light"
     },
     "output_type": "display_data"
    }
   ],
   "source": [
    "EXTENT = [9.5307,46.3723,17.1608,49.0205]\n",
    "\n",
    "fig, ax = plt.subplots(figsize=(12, 6))\n",
    "\n",
    "for tile in mercantile.tiles(*EXTENT, range(8)):\n",
    "    tile_extent = list(mercantile.bounds(tile))\n",
    "    \n",
    "    plot_extent(tile_extent, ax=ax, label='tiles', \n",
    "                color='b', alpha=0.2)\n",
    "\n",
    "plot_extent(EXTENT, ax=ax, label='original', color='r')\n",
    "    \n",
    "ax.axis(\"equal\");"
   ]
  },
  {
   "cell_type": "code",
   "execution_count": 15,
   "metadata": {},
   "outputs": [
    {
     "data": {
      "image/png": "[encoded data removed]",
      "text/plain": [
       "<Figure size 864x432 with 1 Axes>"
      ]
     },
     "metadata": {
      "needs_background": "light"
     },
     "output_type": "display_data"
    }
   ],
   "source": [
    "EXTENT = [9.5307,46.3723,17.1608,49.0205]\n",
    "EXTENT_XY = np.concatenate([\n",
    "    mercantile.xy(EXTENT[0], EXTENT[1]),\n",
    "    mercantile.xy(EXTENT[2], EXTENT[3])\n",
    "])\n",
    "\n",
    "fig, ax = plt.subplots(figsize=(12, 6))\n",
    "\n",
    "for tile in mercantile.tiles(*EXTENT, range(8)):\n",
    "    tile_extent = list(mercantile.xy_bounds(tile))\n",
    "    \n",
    "    plot_extent(tile_extent, ax=ax, label='tiles', \n",
    "                color='b', alpha=0.2)\n",
    "\n",
    "plot_extent(EXTENT_XY, ax=ax, label='original', color='r')\n",
    "\n",
    "ax.axis(\"equal\");"
   ]
  }
 ],
 "metadata": {
  "kernelspec": {
   "display_name": "gis",
   "language": "python",
   "name": "gis"
  },
  "language_info": {
   "codemirror_mode": {
    "name": "ipython",
    "version": 3
   },
   "file_extension": ".py",
   "mimetype": "text/x-python",
   "name": "python",
   "nbconvert_exporter": "python",
   "pygments_lexer": "ipython3",
   "version": "3.9.10"
  }
 },
 "nbformat": 4,
 "nbformat_minor": 4
}
