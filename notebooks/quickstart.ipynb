{
 "cells": [
  {
   "cell_type": "markdown",
   "metadata": {},
   "source": [
    "# Quickstart imagemap"
   ]
  },
  {
   "cell_type": "code",
   "execution_count": null,
   "metadata": {},
   "outputs": [],
   "source": [
    "%load_ext autoreload\n",
    "%autoreload 2"
   ]
  },
  {
   "cell_type": "code",
   "execution_count": null,
   "metadata": {},
   "outputs": [],
   "source": [
    "import numpy as np\n",
    "import pandas as pd\n",
    "import matplotlib.pyplot as plt\n",
    "\n",
    "import imagemap\n",
    "import imagemap.utils\n",
    "import imagemap.imagemap\n",
    "import imagemap.photomap\n",
    "import imagemap.imagetiles\n",
    "import imagemap.dispersion"
   ]
  },
  {
   "cell_type": "markdown",
   "metadata": {},
   "source": [
    "- imagemap.utils\n",
    "    - get_exif_metadata\n",
    "    - get_lat_lon\n",
    "    - square_extent\n",
    "    - quad_rectangle_extent\n",
    "    - scale_extent\n",
    "    - relative_extent\n",
    "    - normalize_aspect\n",
    "- imagemap.imagemap\n",
    "    - image_grid\n",
    "    - image_map\n",
    "- imagemap.photomap\n",
    "    - georeference_images\n",
    "    - merge_images\n",
    "    - crop\n",
    "    - crop_and_resample\n",
    "    - crop_and_resample_collection\n",
    "- imagemap.imagetiles\n",
    "    - xy_tile\n",
    "    - generate_gridded_tiles\n",
    "    - generate_tiles\n",
    "    - create_grid_tiles\n",
    "- imagemap.dispersion\n",
    "    - disperse_points"
   ]
  },
  {
   "cell_type": "markdown",
   "metadata": {},
   "source": [
    "# Prepare Data"
   ]
  },
  {
   "cell_type": "code",
   "execution_count": null,
   "metadata": {},
   "outputs": [],
   "source": [
    "filepath = \"../data/photos-lite.tsv000.gz\"\n",
    "\n",
    "df = pd.read_csv(filepath, sep=\"\\t\")\n",
    "df['date_created'] = pd.to_datetime(df['photo_submitted_at'])\n",
    "\n",
    "df = df[[\n",
    "    'photo_id',\n",
    "    'photo_image_url',\n",
    "    'date_created',\n",
    "    'photo_location_longitude',\n",
    "    'photo_location_latitude'\n",
    "]]\n",
    "df = df.rename(columns={\n",
    "    'photo_image_url': 'image_url',\n",
    "    'photo_location_longitude': 'lon',\n",
    "    'photo_location_latitude': 'lat'\n",
    "})\n",
    "\n",
    "df['date_created'] = pd.to_datetime(df['date_created'])\n",
    "df['image_url'] = df['image_url'].apply(lambda url: url + \"?w=500\")\n",
    "df.head(2)"
   ]
  },
  {
   "cell_type": "markdown",
   "metadata": {},
   "source": [
    "# Image Grid"
   ]
  },
  {
   "cell_type": "code",
   "execution_count": null,
   "metadata": {},
   "outputs": [],
   "source": [
    "imagemap.imagemap.image_grid(\n",
    "    df['image_url'],\n",
    "    nrows=2, ncols=3,\n",
    "    tile_size=128, padding=10,\n",
    "    image_type='url')"
   ]
  },
  {
   "cell_type": "markdown",
   "metadata": {},
   "source": [
    "# Image Map "
   ]
  },
  {
   "cell_type": "code",
   "execution_count": null,
   "metadata": {},
   "outputs": [],
   "source": [
    "df_sample = df.dropna(subset=['lon', 'lat']).sample(20)\n",
    "\n",
    "X = df_sample[['lon', 'lat']].values\n",
    "\n",
    "img, extent = imagemap.imagemap.image_map(\n",
    "    df_sample['image_url'], X,\n",
    "    size=(600, 400),\n",
    "    image_size=50,\n",
    "    gridded=False,\n",
    "    image_type='url')\n",
    "\n",
    "print(\"Extent:\", extent)\n",
    "img"
   ]
  }
 ],
 "metadata": {
  "interpreter": {
   "hash": "737234baf9ff7b42d56f1f4b36e5053a6bd7a0aff47e800b02b749d83815c188"
  },
  "kernelspec": {
   "display_name": "Python 3.9.10 ('gis')",
   "language": "python",
   "name": "python3"
  },
  "language_info": {
   "codemirror_mode": {
    "name": "ipython",
    "version": 3
   },
   "file_extension": ".py",
   "mimetype": "text/x-python",
   "name": "python",
   "nbconvert_exporter": "python",
   "pygments_lexer": "ipython3",
   "version": "3.9.10"
  },
  "orig_nbformat": 4
 },
 "nbformat": 4,
 "nbformat_minor": 2
}
